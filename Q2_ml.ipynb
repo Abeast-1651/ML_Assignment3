{
  "nbformat": 4,
  "nbformat_minor": 0,
  "metadata": {
    "colab": {
      "name": "Q2_ml.ipynb",
      "provenance": []
    },
    "kernelspec": {
      "name": "python3",
      "display_name": "Python 3"
    },
    "language_info": {
      "name": "python"
    }
  },
  "cells": [
    {
      "cell_type": "markdown",
      "metadata": {
        "id": "Qn3Shwv0ykuN"
      },
      "source": [
        "# Q2"
      ]
    },
    {
      "cell_type": "markdown",
      "metadata": {
        "id": "VaBU-6l6ym1t"
      },
      "source": [
        "## Part 1"
      ]
    },
    {
      "cell_type": "code",
      "metadata": {
        "id": "psPrYr3TxgWu"
      },
      "source": [
        "from autograd import grad\n",
        "from sklearn.model_selection import KFold\n",
        "import autograd.numpy as npy\n",
        "from sklearn.datasets import load_breast_cancer\n",
        "from sklearn.model_selection import train_test_split\n",
        "from sklearn.preprocessing import normalize"
      ],
      "execution_count": 1,
      "outputs": []
    },
    {
      "cell_type": "code",
      "metadata": {
        "id": "VoNfhbjSypTb"
      },
      "source": [
        "def sigmoid_b(z):\n",
        "  # print(z)\n",
        "  return 1 / (1 + npy.exp(-z))\n",
        "def accuracy(y_hat,y):\n",
        "  count=0\n",
        "  for i in range(len(y_hat)):\n",
        "    temp=0\n",
        "    if y_hat[i]>0.5:\n",
        "      temp=1\n",
        "    if temp==y[i]:\n",
        "      count+=1\n",
        "  return count/len(y_hat)"
      ],
      "execution_count": 2,
      "outputs": []
    },
    {
      "cell_type": "code",
      "metadata": {
        "id": "js-q30RCyq_1"
      },
      "source": [
        "def loss1(theta,X,y,lam,func):\n",
        "      X_ = npy.matmul(X,theta)\n",
        "      s = sigmoid_b(X_)\n",
        "      result = -(1/y.size)* (npy.sum(npy.multiply(y,npy.log(s))+npy.multiply(1-y,npy.log(1-s))))\n",
        "      if func==\"L1\":\n",
        "        return result + lam*npy.sum(npy.absolute(theta))\n",
        "      return result + lam*npy.sum(npy.square(theta))"
      ],
      "execution_count": 3,
      "outputs": []
    },
    {
      "cell_type": "code",
      "metadata": {
        "id": "S4rxXy8mytXk"
      },
      "source": [
        "class logisticregression_b():\n",
        "  def __init__(self,func=\"L1\",lam=1):\n",
        "    self.lam=lam\n",
        "    self.thetas=None\n",
        "    self.func=func\n",
        "    pass\n",
        "  def fit(self, X, y):\n",
        "      X=npy.append(npy.ones((X.shape[0],1)),X,axis=1)\n",
        "      X=normalize(X)\n",
        "      alpha=0.05\n",
        "      self.thetas  = npy.ones((X.shape[1]))\n",
        "      a=grad(loss1)\n",
        "      for i in range(1000):\n",
        "          self.thetas -= alpha*a(self.thetas,X,y,self.lam,self.func)\n",
        "  def predict(self, X):\n",
        "      X=npy.append(npy.ones((X.shape[0],1)),X,axis=1)\n",
        "      X=normalize(X)\n",
        "      return sigmoid_b(npy.dot(X, self.thetas))"
      ],
      "execution_count": 4,
      "outputs": []
    },
    {
      "cell_type": "code",
      "metadata": {
        "id": "RHc7ng1nyv_9"
      },
      "source": [
        "data=load_breast_cancer()\n",
        "y = data.target\n",
        "x = data.data\n",
        "x.shape\n",
        "# import numpy as np\n",
        "x_train,x_test,y_train,y_test=train_test_split(x,y,test_size=0.2)"
      ],
      "execution_count": 5,
      "outputs": []
    },
    {
      "cell_type": "code",
      "metadata": {
        "id": "F2bDLnclAXDs",
        "colab": {
          "base_uri": "https://localhost:8080/"
        },
        "outputId": "86c49f8b-598c-462d-8835-8fb47c9b1d3d"
      },
      "source": [
        "model=logisticregression_b(func=\"L1\")\n",
        "model.fit(x_train,y_train)\n",
        "y_hat=model.predict(x_test)\n",
        "accuracy(y_hat,y_test)"
      ],
      "execution_count": 6,
      "outputs": [
        {
          "output_type": "execute_result",
          "data": {
            "text/plain": [
              "0.6754385964912281"
            ]
          },
          "metadata": {
            "tags": []
          },
          "execution_count": 6
        }
      ]
    },
    {
      "cell_type": "code",
      "metadata": {
        "colab": {
          "base_uri": "https://localhost:8080/"
        },
        "id": "d5FIxW0U2t5O",
        "outputId": "eaa51adb-6b00-4747-f9c1-714877b928a8"
      },
      "source": [
        "model=logisticregression_b(func=\"L2\")\n",
        "model.fit(x_train,y_train)\n",
        "y_hat=model.predict(x_test)\n",
        "accuracy(y_hat,y_test)"
      ],
      "execution_count": 7,
      "outputs": [
        {
          "output_type": "execute_result",
          "data": {
            "text/plain": [
              "0.6754385964912281"
            ]
          },
          "metadata": {
            "tags": []
          },
          "execution_count": 7
        }
      ]
    },
    {
      "cell_type": "markdown",
      "metadata": {
        "id": "hgAGF_x54Af5"
      },
      "source": [
        "## Part 2"
      ]
    },
    {
      "cell_type": "code",
      "metadata": {
        "id": "C3rrfr-h6sCO"
      },
      "source": [
        "data=load_breast_cancer()\n",
        "y = data.target\n",
        "x = data.data"
      ],
      "execution_count": 8,
      "outputs": []
    },
    {
      "cell_type": "code",
      "metadata": {
        "id": "CAb2g3GY3-Hg"
      },
      "source": [
        "lamb=[0.00001,0.0001,0.001,0.01,0.1,1,2,5,10,20,50]\n",
        "acc_lambda=dict()\n",
        "kf3 = KFold(n_splits=3, shuffle=False)\n",
        "for i in lamb:\n",
        "  \n",
        "  count=0\n",
        "  for train_index, test_index in kf3.split(x):\n",
        "      x_train,x_test=x[train_index],x[test_index]\n",
        "      y_train,y_test=y[train_index],y[test_index]\n",
        "      model_b=logisticregression_b(func=\"L1\",lam=i)\n",
        "      model_b.fit(x_train,y_train)\n",
        "      y_hat=model_b.predict(x_test)\n",
        "      count+=accuracy(y_hat,y_test)/3\n",
        "  acc_lambda[i]=count\n"
      ],
      "execution_count": 9,
      "outputs": []
    },
    {
      "cell_type": "code",
      "metadata": {
        "colab": {
          "base_uri": "https://localhost:8080/"
        },
        "id": "ORHPuHXU6vD6",
        "outputId": "78789f37-d1c7-48e4-f7ea-fbe6423059cc"
      },
      "source": [
        "acc_lambda"
      ],
      "execution_count": 10,
      "outputs": [
        {
          "output_type": "execute_result",
          "data": {
            "text/plain": [
              "{1e-05: 0.636489371577091,\n",
              " 0.0001: 0.636489371577091,\n",
              " 0.001: 0.636489371577091,\n",
              " 0.01: 0.6276710294254154,\n",
              " 0.1: 0.6276710294254154,\n",
              " 1: 0.5782883133760327,\n",
              " 2: 0.6276710294254154,\n",
              " 5: 0.5539868188990996,\n",
              " 10: 0.6276710294254154,\n",
              " 20: 0.6329249048547294,\n",
              " 50: 0.6732850645131346}"
            ]
          },
          "metadata": {
            "tags": []
          },
          "execution_count": 10
        }
      ]
    },
    {
      "cell_type": "code",
      "metadata": {
        "id": "JyfDAL6n7IuV"
      },
      "source": [
        "lamb=[0.00001,0.0001,0.001,0.01,0.1,1,10]\n",
        "acc_lambda=dict()\n",
        "kf3 = KFold(n_splits=3, shuffle=False)\n",
        "for i in lamb:\n",
        "  # print(i)\n",
        "  count=0\n",
        "  for train_index, test_index in kf3.split(x):\n",
        "      x_train,x_test=x[train_index],x[test_index]\n",
        "      y_train,y_test=y[train_index],y[test_index]\n",
        "      model_b=logisticregression_b(func=\"L2\",lam=i)\n",
        "      model_b.fit(x_train,y_train)\n",
        "      y_hat=model_b.predict(x_test)\n",
        "      count+=accuracy(y_hat,y_test)/3\n",
        "  acc_lambda[i]=count"
      ],
      "execution_count": 11,
      "outputs": []
    },
    {
      "cell_type": "code",
      "metadata": {
        "colab": {
          "base_uri": "https://localhost:8080/"
        },
        "id": "qFsw2awa8S38",
        "outputId": "130c949b-2710-4c04-e4bd-b9416f7a12ee"
      },
      "source": [
        "acc_lambda"
      ],
      "execution_count": 12,
      "outputs": [
        {
          "output_type": "execute_result",
          "data": {
            "text/plain": [
              "{1e-05: 0.636489371577091,\n",
              " 0.0001: 0.636489371577091,\n",
              " 0.001: 0.636489371577091,\n",
              " 0.01: 0.6276710294254154,\n",
              " 0.1: 0.6276710294254154,\n",
              " 1: 0.6276710294254154,\n",
              " 10: 0.6276710294254154}"
            ]
          },
          "metadata": {
            "tags": []
          },
          "execution_count": 12
        }
      ]
    }
  ]
}
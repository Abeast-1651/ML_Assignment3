{
  "nbformat": 4,
  "nbformat_minor": 0,
  "metadata": {
    "colab": {
      "name": "Q3_Q4_ml.ipynb",
      "provenance": []
    },
    "kernelspec": {
      "name": "python3",
      "display_name": "Python 3"
    },
    "language_info": {
      "name": "python"
    },
    "accelerator": "GPU"
  },
  "cells": [
    {
      "cell_type": "markdown",
      "metadata": {
        "id": "lyyGjx0edUXJ"
      },
      "source": [
        "# Q3\n",
        "## Part A\n"
      ]
    },
    {
      "cell_type": "code",
      "metadata": {
        "id": "cZhBTBDHhC6t"
      },
      "source": [
        "import numpy as np\n",
        "from scipy.special import softmax\n",
        "from autograd import grad\n",
        "from sklearn.model_selection import KFold\n",
        "from sklearn.preprocessing import OneHotEncoder\n",
        "one_hot_encoder = OneHotEncoder(sparse=False)\n",
        "from sklearn.datasets import load_digits\n",
        "from sklearn.metrics import accuracy_score\n",
        "from tqdm import tqdm\n",
        "digits = load_digits()"
      ],
      "execution_count": 1,
      "outputs": []
    },
    {
      "cell_type": "code",
      "metadata": {
        "id": "9yIZwX82ufVK"
      },
      "source": [
        "class KclassLR:\n",
        "    def __init__(self):\n",
        "      pass\n",
        "    def fit(self, X, Y):\n",
        "        y_ = one_hot_encoder.fit_transform(Y.reshape(-1,1))\n",
        "        weights = np.zeros((X.shape[1], y_.shape[1]))\n",
        "        for i in range(1000):\n",
        "            Z = np.dot(X,weights)\n",
        "            soft_max = softmax(Z, axis=1)\n",
        "            gradient = 1/X.shape[0] * (np.dot(X.T,(soft_max-y_)))\n",
        "            weights= weights - 0.1*gradient\n",
        "        self.weights=weights\n",
        "\n",
        "    def predict(self,X):\n",
        "        Z = np.dot(X,self.weights)\n",
        "        soft_max = softmax(Z, axis=1)\n",
        "        return np.argmax(soft_max, axis=1)"
      ],
      "execution_count": 2,
      "outputs": []
    },
    {
      "cell_type": "markdown",
      "metadata": {
        "id": "BPpDVjQwdbS2"
      },
      "source": [
        "## Part B"
      ]
    },
    {
      "cell_type": "code",
      "metadata": {
        "id": "-W8O5EDYewvi"
      },
      "source": [
        "import autograd.numpy as npy\n",
        "from autograd import elementwise_grad"
      ],
      "execution_count": 3,
      "outputs": []
    },
    {
      "cell_type": "code",
      "metadata": {
        "id": "RV6r6kkEdepd"
      },
      "source": [
        "class KclassLR_b:\n",
        "    def __init__(self):\n",
        "      self.X=None\n",
        "      self.y=None\n",
        "      pass\n",
        "    def loss(self,weights): \n",
        "        X = self.X\n",
        "        y = self.y\n",
        "        loss = 0\n",
        "        for i in range(X.shape[0]):\n",
        "            Z = npy.dot(X[i],weights)\n",
        "            loss -= npy.log(npy.exp(npy.dot(X[i],weights[:,npy.argmax(y[i])]))/npy.sum(npy.exp(Z)))\n",
        "        return loss/len(y)\n",
        "        \n",
        "    def fit(self, X, Y):\n",
        "        y_ = one_hot_encoder.fit_transform(Y.reshape(-1,1))\n",
        "        weights = npy.zeros((X.shape[1], y_.shape[1]))\n",
        "        self.X=X\n",
        "        self.y=y_\n",
        "        gradient=grad(self.loss)\n",
        "        for i in tqdm(range(100)):\n",
        "            weights= weights - 0.1*gradient(weights)\n",
        "        self.weights=weights\n",
        "\n",
        "    def predict(self,X):\n",
        "        Z = npy.dot(X,self.weights)\n",
        "        soft_max = softmax(Z, axis=1)\n",
        "        return np.argmax(soft_max, axis=1)"
      ],
      "execution_count": 4,
      "outputs": []
    },
    {
      "cell_type": "code",
      "metadata": {
        "colab": {
          "base_uri": "https://localhost:8080/"
        },
        "id": "zPH65UV5eA2M",
        "outputId": "f3e7d914-5319-49a3-c558-f892af2ad289"
      },
      "source": [
        "y = digits.target\n",
        "x = digits.images.reshape((len(digits.images), -1))\n",
        "model = KclassLR_b()\n",
        "x_train,x_test = x[:1500],x[1500:]\n",
        "y_train,y_test = y[:1500],y[1500:]\n",
        "model.fit(x_train,y_train)\n",
        "y_hat=model.predict(x_test)\n",
        "print(accuracy_score(y_test,y_hat))"
      ],
      "execution_count": 5,
      "outputs": [
        {
          "output_type": "stream",
          "text": [
            "100%|██████████| 100/100 [01:10<00:00,  1.41it/s]"
          ],
          "name": "stderr"
        },
        {
          "output_type": "stream",
          "text": [
            "0.898989898989899\n"
          ],
          "name": "stdout"
        },
        {
          "output_type": "stream",
          "text": [
            "\n"
          ],
          "name": "stderr"
        }
      ]
    },
    {
      "cell_type": "markdown",
      "metadata": {
        "id": "VOfPh_fndg6J"
      },
      "source": [
        "## Part C"
      ]
    },
    {
      "cell_type": "code",
      "metadata": {
        "id": "b0nx6sBX64EQ"
      },
      "source": [
        "y = digits.target\n",
        "x = digits.images.reshape((len(digits.images), -1))"
      ],
      "execution_count": 6,
      "outputs": []
    },
    {
      "cell_type": "code",
      "metadata": {
        "id": "J4mP53-z8Oy4",
        "colab": {
          "base_uri": "https://localhost:8080/"
        },
        "outputId": "5a965cbb-4cc2-495b-ee13-527c92f055e7"
      },
      "source": [
        "kf3 = KFold(n_splits=3, shuffle=False)\n",
        "for train_index, test_index in kf3.split(x):\n",
        "    model = KclassLR()\n",
        "    x_train,x_test=x[train_index],x[test_index]\n",
        "    y_train,y_test=y[train_index],y[test_index]\n",
        "    model.fit(x_train,y_train)\n",
        "    y_hat=model.predict(x_test)\n",
        "    print(accuracy_score(y_test,y_hat))"
      ],
      "execution_count": 7,
      "outputs": [
        {
          "output_type": "stream",
          "text": [
            "0.9248747913188647\n",
            "0.9449081803005008\n",
            "0.9048414023372288\n"
          ],
          "name": "stdout"
        }
      ]
    },
    {
      "cell_type": "code",
      "metadata": {
        "id": "irLn7gMa-AoJ",
        "colab": {
          "base_uri": "https://localhost:8080/"
        },
        "outputId": "ccbaf7ff-8159-461f-8020-424da8e1c184"
      },
      "source": [
        "from sklearn.metrics import confusion_matrix\n",
        "confusion_mat = confusion_matrix(y_test, y_hat)\n",
        "print(confusion_mat)"
      ],
      "execution_count": 8,
      "outputs": [
        {
          "output_type": "stream",
          "text": [
            "[[56  0  0  0  1  1  1  0  0  0]\n",
            " [ 0 49  0  1  4  0  1  0  1  6]\n",
            " [ 0  0 60  0  0  0  0  0  0  0]\n",
            " [ 0  0  0 51  0  2  0  2  7  0]\n",
            " [ 0  0  0  0 52  0  7  0  0  3]\n",
            " [ 0  0  0  0  0 58  1  0  0  0]\n",
            " [ 0  1  0  0  0  0 60  0  0  0]\n",
            " [ 0  1  0  0  1  0  0 56  1  2]\n",
            " [ 0  1  1  1  1  2  0  1 48  0]\n",
            " [ 2  0  0  2  0  2  0  0  0 52]]\n"
          ],
          "name": "stdout"
        }
      ]
    },
    {
      "cell_type": "markdown",
      "metadata": {
        "id": "9lRTt7UkeJ5D"
      },
      "source": [
        "## Part D"
      ]
    },
    {
      "cell_type": "code",
      "metadata": {
        "id": "WxS0g0yS-vHE"
      },
      "source": [
        "from sklearn.decomposition import PCA\n",
        "import numpy as np\n",
        "import matplotlib.pyplot as plt"
      ],
      "execution_count": 9,
      "outputs": []
    },
    {
      "cell_type": "code",
      "metadata": {
        "id": "NDdlumFZ_Q-m"
      },
      "source": [
        "from sklearn.metrics import accuracy_score\n",
        "digits = load_digits()\n",
        "y = digits.target\n",
        "x = digits.images.reshape((len(digits.images), -1))"
      ],
      "execution_count": 10,
      "outputs": []
    },
    {
      "cell_type": "code",
      "metadata": {
        "id": "2JlNMT2OrFKh"
      },
      "source": [
        "x_train,x_test = x[:1500],x[1500:]\n",
        "y_train,y_test = y[:1500],y[1500:]"
      ],
      "execution_count": 11,
      "outputs": []
    },
    {
      "cell_type": "code",
      "metadata": {
        "id": "-wT3dTU7uALX",
        "colab": {
          "base_uri": "https://localhost:8080/",
          "height": 281
        },
        "outputId": "a5413905-fc31-4965-a534-8ecf55e4b253"
      },
      "source": [
        "func = PCA(n_components=10)\n",
        "x_pca = func.fit_transform(x_train)\n",
        "colours = ['violet', 'red', 'lime', 'cyan','black', 'blue', 'purple', 'yellow',  'orange', 'gray']\n",
        "for colour in range(len(colours)):\n",
        "    x = x_pca[:, 0][y_train == colour]\n",
        "    y = x_pca[:, 1][y_train == colour]\n",
        "    plt.scatter(x, y, c=colours[colour])\n",
        "plt.legend(digits.target_names)"
      ],
      "execution_count": 12,
      "outputs": [
        {
          "output_type": "execute_result",
          "data": {
            "text/plain": [
              "<matplotlib.legend.Legend at 0x7f9c93eca590>"
            ]
          },
          "metadata": {
            "tags": []
          },
          "execution_count": 12
        },
        {
          "output_type": "display_data",
          "data": {
            "image/png": "[encoded data removed]",
            "text/plain": [
              "<Figure size 432x288 with 1 Axes>"
            ]
          },
          "metadata": {
            "tags": [],
            "needs_background": "light"
          }
        }
      ]
    },
    {
      "cell_type": "markdown",
      "metadata": {
        "id": "_4cPNloF3kjw"
      },
      "source": [
        "# Q4"
      ]
    },
    {
      "cell_type": "markdown",
      "metadata": {
        "id": "CrMjHTfp3xyc"
      },
      "source": [
        "Learning Time Complexity = O(nd) where n is sample size, d is dimensions \\\\\n",
        "Learning Space complexity = O(nd + n +d) \\\\\n",
        "Prediction Space complexity = O(d) \\\\\n",
        "Prediction Time Complexity = O(d)  "
      ]
    },
    {
      "cell_type": "code",
      "metadata": {
        "id": "SB_QbkaBuaJV"
      },
      "source": [
        "# Ref https://adataanalyst.com/machine-learning/principal-component-analysis-scikit-learn/\n",
        "# Ref https://towardsdatascience.com/multiclass-logistic-regression-from-scratch-9cc0007da372\n",
        "# Ref https://levelup.gitconnected.com/train-test-complexity-and-space-complexity-of-logistic-regression-2cb3de762054"
      ],
      "execution_count": 13,
      "outputs": []
    }
  ]
}